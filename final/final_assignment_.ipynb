{
 "cells": [
  {
   "cell_type": "markdown",
   "metadata": {
    "nbgrader": {
     "grade": false,
     "grade_id": "cell-fc1c39d0d6f8b82a",
     "locked": true,
     "schema_version": 1,
     "solution": false
    }
   },
   "source": [
    "# Final Programming Assignment\n",
    "\n",
    "My final project uses 4 datasets investigaing heart mortality (3 year mortality rate - age standarized i.e. \"Data_Value\") from 2014 to 2017. All 4 datasets come from the data.gov and look at heart mortality with a racial, gender, and state lens. Since each dataset has state information, I added the region and division that corresponds to each state. The \"states\" csv file (https://www.kaggle.com/omer2040/usa-states-to-region) matches the state with the region and divsion. Once all datasets are merged together, I created a few plots to explore heart mortality. "
   ]
  },
  {
   "cell_type": "markdown",
   "metadata": {},
   "source": [
    "## Part 1: Heart Disease Mortality 2014 (Json Url)\n",
    "\n",
    "In part 1, I only focused on the 2014 dataset and import it as a json url https://chronicdata.cdc.gov/views/i2vk-mgdh/rows.json?accessType=DOWNLOAD. As I looped through the json file, I added region, division, and converted the Year and Data_Value to numeric values. I created a list of dictionaries and then converted this into a dataframe (heart1). "
   ]
  },
  {
   "cell_type": "code",
   "execution_count": 1,
   "metadata": {},
   "outputs": [
    {
     "data": {
      "text/html": [
       "<div>\n",
       "<style scoped>\n",
       "    .dataframe tbody tr th:only-of-type {\n",
       "        vertical-align: middle;\n",
       "    }\n",
       "\n",
       "    .dataframe tbody tr th {\n",
       "        vertical-align: top;\n",
       "    }\n",
       "\n",
       "    .dataframe thead th {\n",
       "        text-align: right;\n",
       "    }\n",
       "</style>\n",
       "<table border=\"1\" class=\"dataframe\">\n",
       "  <thead>\n",
       "    <tr style=\"text-align: right;\">\n",
       "      <th></th>\n",
       "      <th>State</th>\n",
       "      <th>State Code</th>\n",
       "      <th>Region</th>\n",
       "      <th>Division</th>\n",
       "    </tr>\n",
       "  </thead>\n",
       "  <tbody>\n",
       "    <tr>\n",
       "      <th>0</th>\n",
       "      <td>Alaska</td>\n",
       "      <td>AK</td>\n",
       "      <td>West</td>\n",
       "      <td>Pacific</td>\n",
       "    </tr>\n",
       "    <tr>\n",
       "      <th>1</th>\n",
       "      <td>Alabama</td>\n",
       "      <td>AL</td>\n",
       "      <td>South</td>\n",
       "      <td>East South Central</td>\n",
       "    </tr>\n",
       "    <tr>\n",
       "      <th>2</th>\n",
       "      <td>Arkansas</td>\n",
       "      <td>AR</td>\n",
       "      <td>South</td>\n",
       "      <td>West South Central</td>\n",
       "    </tr>\n",
       "    <tr>\n",
       "      <th>3</th>\n",
       "      <td>Arizona</td>\n",
       "      <td>AZ</td>\n",
       "      <td>West</td>\n",
       "      <td>Mountain</td>\n",
       "    </tr>\n",
       "    <tr>\n",
       "      <th>4</th>\n",
       "      <td>California</td>\n",
       "      <td>CA</td>\n",
       "      <td>West</td>\n",
       "      <td>Pacific</td>\n",
       "    </tr>\n",
       "  </tbody>\n",
       "</table>\n",
       "</div>"
      ],
      "text/plain": [
       "        State State Code Region            Division\n",
       "0      Alaska         AK   West             Pacific\n",
       "1     Alabama         AL  South  East South Central\n",
       "2    Arkansas         AR  South  West South Central\n",
       "3     Arizona         AZ   West            Mountain\n",
       "4  California         CA   West             Pacific"
      ]
     },
     "execution_count": 1,
     "metadata": {},
     "output_type": "execute_result"
    }
   ],
   "source": [
    "import requests, json\n",
    "import pandas as pd\n",
    "import numpy as np\n",
    "import seaborn as sns\n",
    "import os\n",
    "\n",
    "#import state csv - general state & region info\n",
    "states = pd.read_csv('/home/jupyter-mmunozru/hds5210-2021/final/states.csv')\n",
    "states.head()"
   ]
  },
  {
   "cell_type": "code",
   "execution_count": 2,
   "metadata": {},
   "outputs": [],
   "source": [
    "#import heart disease data.gov - mortality by race & state\n",
    "\n",
    "def heart_json(url):\n",
    "    \"\"\" (url) -> dataframe\n",
    "    Takes json url from data.gov datasets concerning heart disease mortality, creates a dictionary, and then converts dictionary into a dataframe \n",
    "    (https://catalog.data.gov/dataset/heart-disease-mortality-data-among-us-adults-35-by-state-territory-and-county-2015-2017). The function also\n",
    "    adds the Region & Division (taken from the State File) for each state that is in the json url. The json urls are set up the same way for the \n",
    "    heart mortality datasets. \n",
    "    \"\"\"\n",
    "    \n",
    "    #request access to url\n",
    "    r = requests.get(url) \n",
    "    heart_gov = r.json() #json.loads(r.text) - also works\n",
    "\n",
    "    #get column names of json file\n",
    "    headers=[]\n",
    "    for col in heart_gov['meta']['view']['columns']:\n",
    "        headers.append(col['name'])\n",
    "\n",
    "    data = []\n",
    "    \n",
    "    #create dict with column names & data rows \n",
    "    for row in heart_gov['data']:\n",
    "        #create key & value \n",
    "        data_dict = dict(zip(headers,row))\n",
    "        data_dict['Year'] = int(data_dict['Year']) #convert str to num\n",
    "\n",
    "        #convert Year & Data_Value str to float\n",
    "        if data_dict['Data_Value'] is None:\n",
    "            data_dict['Data_Value'] = np.NaN      \n",
    "        else:\n",
    "            data_dict['Data_Value'] = float(data_dict['Data_Value']) #convert str to num\n",
    "\n",
    "        #Add Region & Division if state abbreviations match\n",
    "        if states['State Code'].str.contains(row[9]).any():\n",
    "            ind = states[states['State Code']==row[9]].index[0]\n",
    "            data_dict.update({'Region':states['Region'][ind],'Division':states['Division'][ind]})\n",
    "        else:\n",
    "            data_dict.update({'Region':None,'Division':None})\n",
    "\n",
    "        data.append(data_dict)\n",
    "    \n",
    "    df = pd.DataFrame(data)\n",
    "        \n",
    "    return df\n",
    "    "
   ]
  },
  {
   "cell_type": "code",
   "execution_count": 3,
   "metadata": {},
   "outputs": [],
   "source": [
    "link = 'https://chronicdata.cdc.gov/views/i2vk-mgdh/rows.json?accessType=DOWNLOAD'\n",
    "df1 = heart_json(link)"
   ]
  },
  {
   "cell_type": "code",
   "execution_count": 4,
   "metadata": {},
   "outputs": [
    {
     "data": {
      "text/html": [
       "<div>\n",
       "<style scoped>\n",
       "    .dataframe tbody tr th:only-of-type {\n",
       "        vertical-align: middle;\n",
       "    }\n",
       "\n",
       "    .dataframe tbody tr th {\n",
       "        vertical-align: top;\n",
       "    }\n",
       "\n",
       "    .dataframe thead th {\n",
       "        text-align: right;\n",
       "    }\n",
       "</style>\n",
       "<table border=\"1\" class=\"dataframe\">\n",
       "  <thead>\n",
       "    <tr style=\"text-align: right;\">\n",
       "      <th></th>\n",
       "      <th>Year</th>\n",
       "      <th>LocationAbbr</th>\n",
       "      <th>Data_Value</th>\n",
       "      <th>Data_Value_Type</th>\n",
       "      <th>Stratification1</th>\n",
       "      <th>Stratification2</th>\n",
       "      <th>Region</th>\n",
       "      <th>Division</th>\n",
       "    </tr>\n",
       "  </thead>\n",
       "  <tbody>\n",
       "    <tr>\n",
       "      <th>101</th>\n",
       "      <td>2014</td>\n",
       "      <td>AK</td>\n",
       "      <td>NaN</td>\n",
       "      <td>Age-adjusted, Spatially Smoothed, 3-year Avera...</td>\n",
       "      <td>Male</td>\n",
       "      <td>White</td>\n",
       "      <td>West</td>\n",
       "      <td>Pacific</td>\n",
       "    </tr>\n",
       "    <tr>\n",
       "      <th>102</th>\n",
       "      <td>2014</td>\n",
       "      <td>AK</td>\n",
       "      <td>317.5</td>\n",
       "      <td>Age-adjusted, Spatially Smoothed, 3-year Avera...</td>\n",
       "      <td>Male</td>\n",
       "      <td>White</td>\n",
       "      <td>West</td>\n",
       "      <td>Pacific</td>\n",
       "    </tr>\n",
       "    <tr>\n",
       "      <th>103</th>\n",
       "      <td>2014</td>\n",
       "      <td>AK</td>\n",
       "      <td>NaN</td>\n",
       "      <td>Age-adjusted, Spatially Smoothed, 3-year Avera...</td>\n",
       "      <td>Male</td>\n",
       "      <td>White</td>\n",
       "      <td>West</td>\n",
       "      <td>Pacific</td>\n",
       "    </tr>\n",
       "    <tr>\n",
       "      <th>104</th>\n",
       "      <td>2014</td>\n",
       "      <td>AK</td>\n",
       "      <td>NaN</td>\n",
       "      <td>Age-adjusted, Spatially Smoothed, 3-year Avera...</td>\n",
       "      <td>Male</td>\n",
       "      <td>White</td>\n",
       "      <td>West</td>\n",
       "      <td>Pacific</td>\n",
       "    </tr>\n",
       "    <tr>\n",
       "      <th>105</th>\n",
       "      <td>2014</td>\n",
       "      <td>AK</td>\n",
       "      <td>400.7</td>\n",
       "      <td>Age-adjusted, Spatially Smoothed, 3-year Avera...</td>\n",
       "      <td>Male</td>\n",
       "      <td>White</td>\n",
       "      <td>West</td>\n",
       "      <td>Pacific</td>\n",
       "    </tr>\n",
       "  </tbody>\n",
       "</table>\n",
       "</div>"
      ],
      "text/plain": [
       "     Year LocationAbbr  Data_Value  \\\n",
       "101  2014           AK         NaN   \n",
       "102  2014           AK       317.5   \n",
       "103  2014           AK         NaN   \n",
       "104  2014           AK         NaN   \n",
       "105  2014           AK       400.7   \n",
       "\n",
       "                                       Data_Value_Type Stratification1  \\\n",
       "101  Age-adjusted, Spatially Smoothed, 3-year Avera...            Male   \n",
       "102  Age-adjusted, Spatially Smoothed, 3-year Avera...            Male   \n",
       "103  Age-adjusted, Spatially Smoothed, 3-year Avera...            Male   \n",
       "104  Age-adjusted, Spatially Smoothed, 3-year Avera...            Male   \n",
       "105  Age-adjusted, Spatially Smoothed, 3-year Avera...            Male   \n",
       "\n",
       "    Stratification2 Region Division  \n",
       "101           White   West  Pacific  \n",
       "102           White   West  Pacific  \n",
       "103           White   West  Pacific  \n",
       "104           White   West  Pacific  \n",
       "105           White   West  Pacific  "
      ]
     },
     "execution_count": 4,
     "metadata": {},
     "output_type": "execute_result"
    }
   ],
   "source": [
    "#Keep interesting cols\n",
    "heart1 = df1[['Year', 'LocationAbbr','Data_Value','Data_Value_Type', 'Stratification1','Stratification2','Region','Division']]\n",
    "heart1 = heart1[(heart1['Stratification1']!='Overall') &\n",
    "              (heart1['Stratification2']!='Overall')] \n",
    "heart1.head()"
   ]
  },
  {
   "cell_type": "code",
   "execution_count": 5,
   "metadata": {},
   "outputs": [
    {
     "data": {
      "text/plain": [
       "(32820, 8)"
      ]
     },
     "execution_count": 5,
     "metadata": {},
     "output_type": "execute_result"
    }
   ],
   "source": [
    "heart1.shape"
   ]
  },
  {
   "cell_type": "markdown",
   "metadata": {},
   "source": [
    "## Part 2: Heart Disease Mortality by race & region 2015 - 2017 (csv files)\n",
    "\n",
    "In part 2, the 2015, 2016, and 2017 dataset were imported as csv files https://catalog.data.gov/dataset/heart-disease-mortality-data-among-us-adults-35-by-state-territory-and-county-2015-2017. Since all three files have the same structure, I merged them into one dataframe (heart2). Then I added region and division as columns to the dataframe. "
   ]
  },
  {
   "cell_type": "code",
   "execution_count": 6,
   "metadata": {},
   "outputs": [],
   "source": [
    "def files(keyword):\n",
    "    \"\"\" (str) -> list of filenames\n",
    "    Searches for filenames that start with the provided string i.e. keyword in the local directory \n",
    "    and then creates a list with those desired filenames. \n",
    "    \"\"\"\n",
    "    path = os.getcwd()\n",
    "    files = os.listdir(path)\n",
    "    Keyword_files = [f for f in files if f.startswith(str(keyword))]\n",
    "    \n",
    "    return Keyword_files"
   ]
  },
  {
   "cell_type": "code",
   "execution_count": 7,
   "metadata": {},
   "outputs": [
    {
     "data": {
      "text/plain": [
       "['Heart_Disease_Mortality_2015.csv',\n",
       " 'Heart_Disease_Mortality_2017.csv',\n",
       " 'Heart_Disease_Mortality_2016.csv']"
      ]
     },
     "execution_count": 7,
     "metadata": {},
     "output_type": "execute_result"
    }
   ],
   "source": [
    "heart_files = files('Heart_Disease_')\n",
    "heart_files"
   ]
  },
  {
   "cell_type": "code",
   "execution_count": 8,
   "metadata": {},
   "outputs": [],
   "source": [
    "df2 = pd.concat((pd.read_csv(h) for h in heart_files))"
   ]
  },
  {
   "cell_type": "code",
   "execution_count": 9,
   "metadata": {},
   "outputs": [
    {
     "data": {
      "text/plain": [
       "array([2015, 2017, 2016])"
      ]
     },
     "execution_count": 9,
     "metadata": {},
     "output_type": "execute_result"
    }
   ],
   "source": [
    "df2['Year'].unique()"
   ]
  },
  {
   "cell_type": "code",
   "execution_count": 10,
   "metadata": {},
   "outputs": [],
   "source": [
    "#Add Region & Divions if state abbreviations match\n",
    "add_region = dict(zip(states['State Code'],states['Region']))\n",
    "add_division = dict(zip(states['State Code'],states['Division']))\n",
    "\n",
    "df2['Region'] = df2['LocationAbbr'].map(add_region)\n",
    "df2['Division'] = df2['LocationAbbr'].map(add_division)                    "
   ]
  },
  {
   "cell_type": "code",
   "execution_count": 11,
   "metadata": {},
   "outputs": [
    {
     "data": {
      "text/html": [
       "<div>\n",
       "<style scoped>\n",
       "    .dataframe tbody tr th:only-of-type {\n",
       "        vertical-align: middle;\n",
       "    }\n",
       "\n",
       "    .dataframe tbody tr th {\n",
       "        vertical-align: top;\n",
       "    }\n",
       "\n",
       "    .dataframe thead th {\n",
       "        text-align: right;\n",
       "    }\n",
       "</style>\n",
       "<table border=\"1\" class=\"dataframe\">\n",
       "  <thead>\n",
       "    <tr style=\"text-align: right;\">\n",
       "      <th></th>\n",
       "      <th>Year</th>\n",
       "      <th>LocationAbbr</th>\n",
       "      <th>Data_Value</th>\n",
       "      <th>Data_Value_Type</th>\n",
       "      <th>Stratification1</th>\n",
       "      <th>Stratification2</th>\n",
       "      <th>Region</th>\n",
       "      <th>Division</th>\n",
       "    </tr>\n",
       "  </thead>\n",
       "  <tbody>\n",
       "    <tr>\n",
       "      <th>0</th>\n",
       "      <td>2015</td>\n",
       "      <td>CO</td>\n",
       "      <td>326.0</td>\n",
       "      <td>Age-adjusted, 3-year Average Rate</td>\n",
       "      <td>Male</td>\n",
       "      <td>White</td>\n",
       "      <td>West</td>\n",
       "      <td>Mountain</td>\n",
       "    </tr>\n",
       "    <tr>\n",
       "      <th>1</th>\n",
       "      <td>2015</td>\n",
       "      <td>ME</td>\n",
       "      <td>247.0</td>\n",
       "      <td>Age-adjusted, 3-year Average Rate</td>\n",
       "      <td>Male</td>\n",
       "      <td>Black</td>\n",
       "      <td>Northeast</td>\n",
       "      <td>New England</td>\n",
       "    </tr>\n",
       "    <tr>\n",
       "      <th>5</th>\n",
       "      <td>2015</td>\n",
       "      <td>US</td>\n",
       "      <td>516.3</td>\n",
       "      <td>Age-adjusted, 3-year Average Rate</td>\n",
       "      <td>Male</td>\n",
       "      <td>Black</td>\n",
       "      <td>NaN</td>\n",
       "      <td>NaN</td>\n",
       "    </tr>\n",
       "    <tr>\n",
       "      <th>6</th>\n",
       "      <td>2015</td>\n",
       "      <td>US</td>\n",
       "      <td>331.0</td>\n",
       "      <td>Age-adjusted, 3-year Average Rate</td>\n",
       "      <td>Female</td>\n",
       "      <td>Black</td>\n",
       "      <td>NaN</td>\n",
       "      <td>NaN</td>\n",
       "    </tr>\n",
       "    <tr>\n",
       "      <th>7</th>\n",
       "      <td>2015</td>\n",
       "      <td>US</td>\n",
       "      <td>284.3</td>\n",
       "      <td>Age-adjusted, 3-year Average Rate</td>\n",
       "      <td>Male</td>\n",
       "      <td>Hispanic</td>\n",
       "      <td>NaN</td>\n",
       "      <td>NaN</td>\n",
       "    </tr>\n",
       "  </tbody>\n",
       "</table>\n",
       "</div>"
      ],
      "text/plain": [
       "   Year LocationAbbr  Data_Value                    Data_Value_Type  \\\n",
       "0  2015           CO       326.0  Age-adjusted, 3-year Average Rate   \n",
       "1  2015           ME       247.0  Age-adjusted, 3-year Average Rate   \n",
       "5  2015           US       516.3  Age-adjusted, 3-year Average Rate   \n",
       "6  2015           US       331.0  Age-adjusted, 3-year Average Rate   \n",
       "7  2015           US       284.3  Age-adjusted, 3-year Average Rate   \n",
       "\n",
       "  Stratification1 Stratification2     Region     Division  \n",
       "0            Male           White       West     Mountain  \n",
       "1            Male           Black  Northeast  New England  \n",
       "5            Male           Black        NaN          NaN  \n",
       "6          Female           Black        NaN          NaN  \n",
       "7            Male        Hispanic        NaN          NaN  "
      ]
     },
     "execution_count": 11,
     "metadata": {},
     "output_type": "execute_result"
    }
   ],
   "source": [
    "#Keep interesting cols\n",
    "heart2 = df2[['Year', 'LocationAbbr','Data_Value','Data_Value_Type', 'Stratification1','Stratification2','Region','Division']]\n",
    "heart2 = heart2[(heart2['Stratification1']!='Overall') &\n",
    "              (heart2['Stratification2']!='Overall')] \n",
    "heart2.head()"
   ]
  },
  {
   "cell_type": "code",
   "execution_count": 12,
   "metadata": {},
   "outputs": [
    {
     "data": {
      "text/plain": [
       "(89473, 8)"
      ]
     },
     "execution_count": 12,
     "metadata": {},
     "output_type": "execute_result"
    }
   ],
   "source": [
    "heart2.shape"
   ]
  },
  {
   "cell_type": "markdown",
   "metadata": {},
   "source": [
    "## Part 3: Combine heart1 & heart2 - Explore\n",
    "\n",
    "Both heart1 & heart2 have the same structure and were merged to create one dataframe called heart. Basic statistics and visualizations were created to explore differences in heart mortality across year, gender, enthnicity, and region. "
   ]
  },
  {
   "cell_type": "code",
   "execution_count": 13,
   "metadata": {},
   "outputs": [
    {
     "data": {
      "text/plain": [
       "(122293, 8)"
      ]
     },
     "execution_count": 13,
     "metadata": {},
     "output_type": "execute_result"
    }
   ],
   "source": [
    "heart = pd.concat([heart1,heart2])\n",
    "heart.shape"
   ]
  },
  {
   "cell_type": "code",
   "execution_count": 14,
   "metadata": {},
   "outputs": [
    {
     "data": {
      "text/html": [
       "<div>\n",
       "<style scoped>\n",
       "    .dataframe tbody tr th:only-of-type {\n",
       "        vertical-align: middle;\n",
       "    }\n",
       "\n",
       "    .dataframe tbody tr th {\n",
       "        vertical-align: top;\n",
       "    }\n",
       "\n",
       "    .dataframe thead th {\n",
       "        text-align: right;\n",
       "    }\n",
       "</style>\n",
       "<table border=\"1\" class=\"dataframe\">\n",
       "  <thead>\n",
       "    <tr style=\"text-align: right;\">\n",
       "      <th></th>\n",
       "      <th>Year</th>\n",
       "      <th>LocationAbbr</th>\n",
       "      <th>Data_Value</th>\n",
       "      <th>Data_Value_Type</th>\n",
       "      <th>Stratification1</th>\n",
       "      <th>Stratification2</th>\n",
       "      <th>Region</th>\n",
       "      <th>Division</th>\n",
       "    </tr>\n",
       "  </thead>\n",
       "  <tbody>\n",
       "    <tr>\n",
       "      <th>101</th>\n",
       "      <td>2014</td>\n",
       "      <td>AK</td>\n",
       "      <td>NaN</td>\n",
       "      <td>Age-adjusted, Spatially Smoothed, 3-year Avera...</td>\n",
       "      <td>Male</td>\n",
       "      <td>White</td>\n",
       "      <td>West</td>\n",
       "      <td>Pacific</td>\n",
       "    </tr>\n",
       "    <tr>\n",
       "      <th>102</th>\n",
       "      <td>2014</td>\n",
       "      <td>AK</td>\n",
       "      <td>317.5</td>\n",
       "      <td>Age-adjusted, Spatially Smoothed, 3-year Avera...</td>\n",
       "      <td>Male</td>\n",
       "      <td>White</td>\n",
       "      <td>West</td>\n",
       "      <td>Pacific</td>\n",
       "    </tr>\n",
       "    <tr>\n",
       "      <th>103</th>\n",
       "      <td>2014</td>\n",
       "      <td>AK</td>\n",
       "      <td>NaN</td>\n",
       "      <td>Age-adjusted, Spatially Smoothed, 3-year Avera...</td>\n",
       "      <td>Male</td>\n",
       "      <td>White</td>\n",
       "      <td>West</td>\n",
       "      <td>Pacific</td>\n",
       "    </tr>\n",
       "    <tr>\n",
       "      <th>104</th>\n",
       "      <td>2014</td>\n",
       "      <td>AK</td>\n",
       "      <td>NaN</td>\n",
       "      <td>Age-adjusted, Spatially Smoothed, 3-year Avera...</td>\n",
       "      <td>Male</td>\n",
       "      <td>White</td>\n",
       "      <td>West</td>\n",
       "      <td>Pacific</td>\n",
       "    </tr>\n",
       "    <tr>\n",
       "      <th>105</th>\n",
       "      <td>2014</td>\n",
       "      <td>AK</td>\n",
       "      <td>400.7</td>\n",
       "      <td>Age-adjusted, Spatially Smoothed, 3-year Avera...</td>\n",
       "      <td>Male</td>\n",
       "      <td>White</td>\n",
       "      <td>West</td>\n",
       "      <td>Pacific</td>\n",
       "    </tr>\n",
       "  </tbody>\n",
       "</table>\n",
       "</div>"
      ],
      "text/plain": [
       "     Year LocationAbbr  Data_Value  \\\n",
       "101  2014           AK         NaN   \n",
       "102  2014           AK       317.5   \n",
       "103  2014           AK         NaN   \n",
       "104  2014           AK         NaN   \n",
       "105  2014           AK       400.7   \n",
       "\n",
       "                                       Data_Value_Type Stratification1  \\\n",
       "101  Age-adjusted, Spatially Smoothed, 3-year Avera...            Male   \n",
       "102  Age-adjusted, Spatially Smoothed, 3-year Avera...            Male   \n",
       "103  Age-adjusted, Spatially Smoothed, 3-year Avera...            Male   \n",
       "104  Age-adjusted, Spatially Smoothed, 3-year Avera...            Male   \n",
       "105  Age-adjusted, Spatially Smoothed, 3-year Avera...            Male   \n",
       "\n",
       "    Stratification2 Region Division  \n",
       "101           White   West  Pacific  \n",
       "102           White   West  Pacific  \n",
       "103           White   West  Pacific  \n",
       "104           White   West  Pacific  \n",
       "105           White   West  Pacific  "
      ]
     },
     "execution_count": 14,
     "metadata": {},
     "output_type": "execute_result"
    }
   ],
   "source": [
    "heart.head()"
   ]
  },
  {
   "cell_type": "code",
   "execution_count": 15,
   "metadata": {},
   "outputs": [
    {
     "data": {
      "text/plain": [
       "array([[<matplotlib.axes._subplots.AxesSubplot object at 0x7fae3f5db3c8>]],\n",
       "      dtype=object)"
      ]
     },
     "execution_count": 15,
     "metadata": {},
     "output_type": "execute_result"
    },
    {
     "data": {
      "image/png": "[encoded data removed]",
      "text/plain": [
       "<Figure size 432x288 with 1 Axes>"
      ]
     },
     "metadata": {
      "needs_background": "light"
     },
     "output_type": "display_data"
    }
   ],
   "source": [
    "heart[['Data_Value']].hist(bins=20, range=[0,800])"
   ]
  },
  {
   "cell_type": "code",
   "execution_count": 16,
   "metadata": {},
   "outputs": [
    {
     "data": {
      "text/plain": [
       "349.21"
      ]
     },
     "execution_count": 16,
     "metadata": {},
     "output_type": "execute_result"
    }
   ],
   "source": [
    "round(heart['Data_Value'].mean(),2)"
   ]
  },
  {
   "cell_type": "code",
   "execution_count": 17,
   "metadata": {},
   "outputs": [
    {
     "data": {
      "text/html": [
       "<div>\n",
       "<style scoped>\n",
       "    .dataframe tbody tr th:only-of-type {\n",
       "        vertical-align: middle;\n",
       "    }\n",
       "\n",
       "    .dataframe tbody tr th {\n",
       "        vertical-align: top;\n",
       "    }\n",
       "\n",
       "    .dataframe thead th {\n",
       "        text-align: right;\n",
       "    }\n",
       "</style>\n",
       "<table border=\"1\" class=\"dataframe\">\n",
       "  <thead>\n",
       "    <tr style=\"text-align: right;\">\n",
       "      <th></th>\n",
       "      <th>Year</th>\n",
       "      <th>LocationAbbr</th>\n",
       "      <th>Data_Value</th>\n",
       "      <th>Data_Value_Type</th>\n",
       "      <th>Stratification1</th>\n",
       "      <th>Stratification2</th>\n",
       "      <th>Region</th>\n",
       "      <th>Division</th>\n",
       "    </tr>\n",
       "  </thead>\n",
       "  <tbody>\n",
       "    <tr>\n",
       "      <th>37165</th>\n",
       "      <td>2015</td>\n",
       "      <td>OH</td>\n",
       "      <td>5161.7</td>\n",
       "      <td>Age-adjusted, Spatially Smoothed, 3-year Avera...</td>\n",
       "      <td>Male</td>\n",
       "      <td>Black</td>\n",
       "      <td>Midwest</td>\n",
       "      <td>East North Central</td>\n",
       "    </tr>\n",
       "  </tbody>\n",
       "</table>\n",
       "</div>"
      ],
      "text/plain": [
       "       Year LocationAbbr  Data_Value  \\\n",
       "37165  2015           OH      5161.7   \n",
       "\n",
       "                                         Data_Value_Type Stratification1  \\\n",
       "37165  Age-adjusted, Spatially Smoothed, 3-year Avera...            Male   \n",
       "\n",
       "      Stratification2   Region            Division  \n",
       "37165           Black  Midwest  East North Central  "
      ]
     },
     "execution_count": 17,
     "metadata": {},
     "output_type": "execute_result"
    }
   ],
   "source": [
    "heart[heart['Data_Value']==heart['Data_Value'].max()]"
   ]
  },
  {
   "cell_type": "code",
   "execution_count": 18,
   "metadata": {},
   "outputs": [
    {
     "data": {
      "text/html": [
       "<div>\n",
       "<style scoped>\n",
       "    .dataframe tbody tr th:only-of-type {\n",
       "        vertical-align: middle;\n",
       "    }\n",
       "\n",
       "    .dataframe tbody tr th {\n",
       "        vertical-align: top;\n",
       "    }\n",
       "\n",
       "    .dataframe thead th {\n",
       "        text-align: right;\n",
       "    }\n",
       "</style>\n",
       "<table border=\"1\" class=\"dataframe\">\n",
       "  <thead>\n",
       "    <tr style=\"text-align: right;\">\n",
       "      <th></th>\n",
       "      <th>Year</th>\n",
       "      <th>LocationAbbr</th>\n",
       "      <th>Data_Value</th>\n",
       "      <th>Data_Value_Type</th>\n",
       "      <th>Stratification1</th>\n",
       "      <th>Stratification2</th>\n",
       "      <th>Region</th>\n",
       "      <th>Division</th>\n",
       "    </tr>\n",
       "  </thead>\n",
       "  <tbody>\n",
       "    <tr>\n",
       "      <th>50495</th>\n",
       "      <td>2015</td>\n",
       "      <td>TX</td>\n",
       "      <td>0.0</td>\n",
       "      <td>Age-adjusted, Spatially Smoothed, 3-year Avera...</td>\n",
       "      <td>Female</td>\n",
       "      <td>Hispanic</td>\n",
       "      <td>South</td>\n",
       "      <td>West South Central</td>\n",
       "    </tr>\n",
       "    <tr>\n",
       "      <th>14321</th>\n",
       "      <td>2017</td>\n",
       "      <td>IL</td>\n",
       "      <td>0.0</td>\n",
       "      <td>Age-adjusted, Spatially Smoothed, 3-year Avera...</td>\n",
       "      <td>Female</td>\n",
       "      <td>Asian and Pacific Islander</td>\n",
       "      <td>Midwest</td>\n",
       "      <td>East North Central</td>\n",
       "    </tr>\n",
       "    <tr>\n",
       "      <th>15948</th>\n",
       "      <td>2017</td>\n",
       "      <td>IN</td>\n",
       "      <td>0.0</td>\n",
       "      <td>Age-adjusted, Spatially Smoothed, 3-year Avera...</td>\n",
       "      <td>Male</td>\n",
       "      <td>Asian and Pacific Islander</td>\n",
       "      <td>Midwest</td>\n",
       "      <td>East North Central</td>\n",
       "    </tr>\n",
       "    <tr>\n",
       "      <th>15305</th>\n",
       "      <td>2016</td>\n",
       "      <td>IL</td>\n",
       "      <td>0.0</td>\n",
       "      <td>Age-adjusted, Spatially Smoothed, 3-year Avera...</td>\n",
       "      <td>Female</td>\n",
       "      <td>Asian and Pacific Islander</td>\n",
       "      <td>Midwest</td>\n",
       "      <td>East North Central</td>\n",
       "    </tr>\n",
       "  </tbody>\n",
       "</table>\n",
       "</div>"
      ],
      "text/plain": [
       "       Year LocationAbbr  Data_Value  \\\n",
       "50495  2015           TX         0.0   \n",
       "14321  2017           IL         0.0   \n",
       "15948  2017           IN         0.0   \n",
       "15305  2016           IL         0.0   \n",
       "\n",
       "                                         Data_Value_Type Stratification1  \\\n",
       "50495  Age-adjusted, Spatially Smoothed, 3-year Avera...          Female   \n",
       "14321  Age-adjusted, Spatially Smoothed, 3-year Avera...          Female   \n",
       "15948  Age-adjusted, Spatially Smoothed, 3-year Avera...            Male   \n",
       "15305  Age-adjusted, Spatially Smoothed, 3-year Avera...          Female   \n",
       "\n",
       "                  Stratification2   Region            Division  \n",
       "50495                    Hispanic    South  West South Central  \n",
       "14321  Asian and Pacific Islander  Midwest  East North Central  \n",
       "15948  Asian and Pacific Islander  Midwest  East North Central  \n",
       "15305  Asian and Pacific Islander  Midwest  East North Central  "
      ]
     },
     "execution_count": 18,
     "metadata": {},
     "output_type": "execute_result"
    }
   ],
   "source": [
    "heart[heart['Data_Value']==heart['Data_Value'].min()]"
   ]
  },
  {
   "cell_type": "code",
   "execution_count": 19,
   "metadata": {},
   "outputs": [
    {
     "data": {
      "text/plain": [
       "<matplotlib.axes._subplots.AxesSubplot at 0x7fae3f45a710>"
      ]
     },
     "execution_count": 19,
     "metadata": {},
     "output_type": "execute_result"
    },
    {
     "data": {
      "image/png": "[encoded data removed]",
      "text/plain": [
       "<Figure size 432x288 with 1 Axes>"
      ]
     },
     "metadata": {
      "needs_background": "light"
     },
     "output_type": "display_data"
    }
   ],
   "source": [
    "sns.lineplot(data=heart,x=\"Year\",y=\"Data_Value\",hue=\"Region\")"
   ]
  },
  {
   "cell_type": "code",
   "execution_count": 20,
   "metadata": {},
   "outputs": [
    {
     "data": {
      "image/png": "[encoded data removed]",
      "text/plain": [
       "<Figure size 1080x360 with 5 Axes>"
      ]
     },
     "metadata": {
      "needs_background": "light"
     },
     "output_type": "display_data"
    }
   ],
   "source": [
    "y = sns.catplot(x=\"Year\", y=\"Data_Value\", col=\"Stratification2\",\n",
    "                data=heart, saturation=.5,\n",
    "                kind=\"bar\", ci=\"sd\", aspect=.6)"
   ]
  },
  {
   "cell_type": "code",
   "execution_count": 21,
   "metadata": {},
   "outputs": [
    {
     "data": {
      "image/png": "[encoded data removed]",
      "text/plain": [
       "<Figure size 649.625x432 with 1 Axes>"
      ]
     },
     "metadata": {
      "needs_background": "light"
     },
     "output_type": "display_data"
    }
   ],
   "source": [
    "e = sns.catplot(\n",
    "    data=heart, kind=\"bar\",\n",
    "    x=\"Region\", y=\"Data_Value\", hue=\"Stratification2\",\n",
    "    ci=\"sd\", palette=\"tab10\", alpha=.6, height=6\n",
    ")\n",
    "e.despine(left=True)\n",
    "e.set_axis_labels(\"Region\", \"Heart Mortality\")\n",
    "e.legend.set_title(\"\")"
   ]
  },
  {
   "cell_type": "code",
   "execution_count": 22,
   "metadata": {},
   "outputs": [
    {
     "data": {
      "image/png": "[encoded data removed]",
      "text/plain": [
       "<Figure size 937.625x360 with 2 Axes>"
      ]
     },
     "metadata": {
      "needs_background": "light"
     },
     "output_type": "display_data"
    }
   ],
   "source": [
    "r = sns.catplot(x=\"Region\",y=\"Data_Value\",hue=\"Stratification2\",col=\"Stratification1\",data=heart)"
   ]
  },
  {
   "cell_type": "code",
   "execution_count": 23,
   "metadata": {},
   "outputs": [
    {
     "data": {
      "image/png": "[encoded data removed]",
      "text/plain": [
       "<Figure size 432x360 with 2 Axes>"
      ]
     },
     "metadata": {
      "needs_background": "light"
     },
     "output_type": "display_data"
    }
   ],
   "source": [
    "g = sns.catplot(x=\"Region\", y=\"Data_Value\", col=\"Stratification1\",\n",
    "                data=heart, saturation=.5,\n",
    "                kind=\"bar\", ci=\"sd\", aspect=.6)"
   ]
  },
  {
   "cell_type": "markdown",
   "metadata": {},
   "source": [
    "## Part 4: Conclusions\n",
    "\n",
    "Heart disease mortality rate was consistent from 2014 to 2017 (fig. 2). Overall, the region with the largest heart disease mortality rate the South followed by Midwest. The Northeast and West regions had similar heart disease mortality rates. The ethnic groups at highest risk of heart failure from heart disease were Black, American Indian/Alaskan Native, and White, respectively (fig. 3).  \n",
    "\n",
    "Looking at Region and Ethnicity, heart disease mortality rate for Black and White people were fairly consistent and the highest across all four regions (fig. 4). Asian and Pacific Islander people were consistent across all regions and had lower heart mortality rate. \n",
    "\n",
    "Gender seems to play a big part in heart disease mortality rates. Males have a higher heart disease mortality rate than females across all regions. Men is the South are at the highest risk (fig. 5 and fig. 6). \n",
    "\n",
    "Based on these conclusions, it is important to have public health intitatives in all four regions. The most important group to target would be Black males living in the South. The next step would be to investigate specific states and counties that may be driving these numbers in the South.   \n"
   ]
  },
  {
   "cell_type": "markdown",
   "metadata": {},
   "source": [
    "---\n",
    "\n",
    "---"
   ]
  },
  {
   "cell_type": "markdown",
   "metadata": {},
   "source": [
    "---\n",
    "\n",
    "## Submitting Your Work\n",
    "\n",
    "In order to submit your work, you'll need to use the `git` command line program to **add** your homework file (this file) to your local repository, **commit** your changes to your local repository, and then **push** those changes up to github.com.  From there, I'll be able to **pull** the changes down and do my grading.  I'll provide some feedback, **commit** and **push** my comments back to you.  The first line of code below will **pull** down my comments into your local folders.\n",
    "\n",
    "To run through everything one last time and submit your work:\n",
    "1. Use the `Kernel` -> `Restart Kernel and Run All Cells` menu option to run everything from top to bottom and stop here.\n",
    "2. Save this note with Ctrl-S (or Cmd-S)\n",
    "2. Skip down to the last command cell (the one starting with `%%bash`) and run that cell.\n",
    "\n",
    "If anything fails along the way with this submission part of the process, let me know.  I'll help you troubleshoort."
   ]
  },
  {
   "cell_type": "code",
   "execution_count": null,
   "metadata": {},
   "outputs": [],
   "source": []
  },
  {
   "cell_type": "code",
   "execution_count": 24,
   "metadata": {},
   "outputs": [
    {
     "ename": "AssertionError",
     "evalue": "DO NOT REMOVE THIS LINE",
     "output_type": "error",
     "traceback": [
      "\u001b[0;31m---------------------------------------------------------------------------\u001b[0m",
      "\u001b[0;31mAssertionError\u001b[0m                            Traceback (most recent call last)",
      "\u001b[0;32m<ipython-input-24-cef8011cb395>\u001b[0m in \u001b[0;36m<module>\u001b[0;34m\u001b[0m\n\u001b[0;32m----> 1\u001b[0;31m \u001b[0;32massert\u001b[0m \u001b[0;32mFalse\u001b[0m\u001b[0;34m,\u001b[0m \u001b[0;34m\"DO NOT REMOVE THIS LINE\"\u001b[0m\u001b[0;34m\u001b[0m\u001b[0;34m\u001b[0m\u001b[0m\n\u001b[0m",
      "\u001b[0;31mAssertionError\u001b[0m: DO NOT REMOVE THIS LINE"
     ]
    }
   ],
   "source": [
    "assert False, \"DO NOT REMOVE THIS LINE\""
   ]
  },
  {
   "cell_type": "markdown",
   "metadata": {},
   "source": [
    "---"
   ]
  },
  {
   "cell_type": "code",
   "execution_count": 28,
   "metadata": {},
   "outputs": [
    {
     "name": "stdout",
     "output_type": "stream",
     "text": [
      "Already up to date.\n",
      "[main 3c9d528] Submitting the final assignment\n",
      " 4 files changed, 161610 insertions(+)\n",
      " create mode 100644 final/Heart_Disease_Mortality_2015.csv\n",
      " create mode 100644 final/Heart_Disease_Mortality_2016.csv\n",
      " create mode 100644 final/Heart_Disease_Mortality_2017.csv\n",
      " create mode 100644 final/states.csv\n"
     ]
    },
    {
     "name": "stderr",
     "output_type": "stream",
     "text": [
      "fatal: pathspec 'final_assignment.ipynb' did not match any files\n",
      "To github.com:mmunozru/hds5210-2021.git\n",
      "   4a9f26d..3c9d528  main -> main\n"
     ]
    }
   ],
   "source": [
    "%%bash\n",
    "git pull\n",
    "git add final_assignment.ipynb\n",
    "git add Heart_Disease_Mortality_2015.csv\n",
    "git add Heart_Disease_Mortality_2016.csv\n",
    "git add Heart_Disease_Mortality_2017.csv\n",
    "git add states.csv\n",
    "git commit -a -m \"Submitting the final assignment\"\n",
    "git push"
   ]
  },
  {
   "cell_type": "markdown",
   "metadata": {},
   "source": [
    "\n",
    "---\n",
    "\n",
    "If the message above says something like _Submitting the week 10 review exercises_ or _Everything is up to date_, then your work was submitted correctly."
   ]
  },
  {
   "cell_type": "code",
   "execution_count": null,
   "metadata": {},
   "outputs": [],
   "source": []
  }
 ],
 "metadata": {
  "kernelspec": {
   "display_name": "Python 3",
   "language": "python",
   "name": "python3"
  },
  "language_info": {
   "codemirror_mode": {
    "name": "ipython",
    "version": 3
   },
   "file_extension": ".py",
   "mimetype": "text/x-python",
   "name": "python",
   "nbconvert_exporter": "python",
   "pygments_lexer": "ipython3",
   "version": "3.6.7"
  }
 },
 "nbformat": 4,
 "nbformat_minor": 4
}
