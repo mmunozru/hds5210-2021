{
 "cells": [
  {
   "cell_type": "markdown",
   "metadata": {},
   "source": [
    "# Week 10 Assignment\n",
    "\n",
    "Because I was unable to conduct our workshop this week, I'm keeping the assignment light as well.  Below you'll find just two steps for this week: one programming exercise and then a planning activity for your final project.\n",
    "\n",
    "For clarification, the \"final project\" I've been referring to is your \"final.\"  It is not a project in addition to a final exam.  They're one-in-the-same.\n",
    "\n",
    "Please do the programming exercise and verify that your code works using the tests, then think about your final project and fill out the questions in the second part.\n",
    "\n",
    "---\n",
    "---"
   ]
  },
  {
   "cell_type": "markdown",
   "metadata": {},
   "source": [
    "### 47.1: Filtering and summarizing data\n",
    "\n",
    "For this work, you'll find a data file in `/data/complications_all.csv`.\n",
    "\n",
    "Read in the data file and create a variable called `mo_hospitals` that contains a data frame from the `complications_all.csv` file, filtered down to only contain those hospitals from the state of Missouri (MO).\n",
    "\n",
    "Then aggregate that data by hospital into a variable named `mo_summary`.  There are some key fields that we want to summarize:\n",
    "* We want to know the earliest date that each hospital was participating in any program\n",
    "* We want to know the latest date that each hospital stopped participating in any program\n",
    "* We want to know the total number of patients in the denominators of these programs\n",
    "\n",
    "Some things to note:\n",
    "* You will need to convert the `Start Date` and `End Date` to actual datetime fields\n",
    "* You will need to clean up and convert the `Denominator` field to just be numeric - the rule that you should use it to simply remove any records where the `Denominator` is `'Not Available'`\n",
    "\n",
    "\n",
    "The final result of this step should be a new data frame called `mo_summary` that contains one row for each hospital and contains the min start date, max end date, and total denominator.  Use the names `start_date`, `end_date`, and `number` for those columns in `mo_summary`.\n",
    "\n",
    "\n",
    "You do not need to create your code in the form of a function, just make sure your variable names match what I've described above so the tests work."
   ]
  },
  {
   "cell_type": "code",
   "execution_count": 82,
   "metadata": {},
   "outputs": [],
   "source": [
    "import pandas as pd\n",
    "import numpy as np\n",
    "\n",
    "mo_hospitals = pd.read_csv('/data/complications_all.csv', sep =',', skipinitialspace=True) #load in file\n",
    "\n",
    "mo_hospitals = mo_hospitals[(mo_hospitals['State']=='MO')] #filter for MO states\n",
    "mo_hospitals['Start Date'] = pd.to_datetime(mo_hospitals['Start Date'],format ='%m/%d/%Y') #convert column/series to datetime\n",
    "mo_hospitals['End Date'] = pd.to_datetime(mo_hospitals['End Date'],format ='%m/%d/%Y') #convert column/series to datetime"
   ]
  },
  {
   "cell_type": "code",
   "execution_count": 81,
   "metadata": {},
   "outputs": [],
   "source": [
    "# These assertions will help make sure that you're on the right track.\n",
    "assert(mo_hospitals['State'].unique() == ['MO'])\n",
    "assert(mo_hospitals.shape == (2133,18))"
   ]
  },
  {
   "cell_type": "code",
   "execution_count": null,
   "metadata": {},
   "outputs": [],
   "source": [
    "mo_hospitals = mo_hospitals[(mo_hospitals['Denominator'] !='Not Available')] #remove row that contains str\n",
    "#mo_hospitals['Denominator'].replace('Not Available',np.nan, inplace=True) #convert str to NaN but keep row \n",
    "mo_hospitals['Denominator'] = pd.to_numeric(mo_hospitals['Denominator']) #convert col to int \n",
    "mo_hospitals['Facility Name'] = mo_hospitals['Facility Name'].str.upper() #make sure name is capitalized\n",
    "\n",
    "mo_hospitals.head()"
   ]
  },
  {
   "cell_type": "code",
   "execution_count": 74,
   "metadata": {},
   "outputs": [],
   "source": [
    "data = []\n",
    "facilities = mo_hospitals['Facility Name'].unique()\n",
    "\n",
    "#get info for each facility df\n",
    "for facility in mo_hospitals['Facility Name'].unique():\n",
    "    df = mo_hospitals[(mo_hospitals['Facility Name'] == facility)] \n",
    "    #ID = df['Facility ID'].unique()[0] \n",
    "    start_date = min(df['Start Date'])\n",
    "    end_date = max(df['End Date'])\n",
    "    number = np.nansum(df['Denominator'])\n",
    "    data.append([start_date,end_date,number])"
   ]
  },
  {
   "cell_type": "code",
   "execution_count": 75,
   "metadata": {},
   "outputs": [],
   "source": [
    "mo_summary = pd.DataFrame(data,index=facilities,columns = ['start_date','end_date','number'])"
   ]
  },
  {
   "cell_type": "code",
   "execution_count": 77,
   "metadata": {},
   "outputs": [
    {
     "data": {
      "text/html": [
       "<div>\n",
       "<style scoped>\n",
       "    .dataframe tbody tr th:only-of-type {\n",
       "        vertical-align: middle;\n",
       "    }\n",
       "\n",
       "    .dataframe tbody tr th {\n",
       "        vertical-align: top;\n",
       "    }\n",
       "\n",
       "    .dataframe thead th {\n",
       "        text-align: right;\n",
       "    }\n",
       "</style>\n",
       "<table border=\"1\" class=\"dataframe\">\n",
       "  <thead>\n",
       "    <tr style=\"text-align: right;\">\n",
       "      <th></th>\n",
       "      <th>start_date</th>\n",
       "      <th>end_date</th>\n",
       "      <th>number</th>\n",
       "    </tr>\n",
       "  </thead>\n",
       "  <tbody>\n",
       "    <tr>\n",
       "      <th>MERCY HOSPITAL JOPLIN</th>\n",
       "      <td>2015-04-01</td>\n",
       "      <td>2018-06-30</td>\n",
       "      <td>29977</td>\n",
       "    </tr>\n",
       "    <tr>\n",
       "      <th>COOPER COUNTY COMMUNITY HOSPITAL</th>\n",
       "      <td>2015-07-01</td>\n",
       "      <td>2018-06-30</td>\n",
       "      <td>697</td>\n",
       "    </tr>\n",
       "    <tr>\n",
       "      <th>SSM HEALTH ST JOSEPH HOSPITAL-ST CHARLES</th>\n",
       "      <td>2015-04-01</td>\n",
       "      <td>2018-06-30</td>\n",
       "      <td>23443</td>\n",
       "    </tr>\n",
       "    <tr>\n",
       "      <th>MOSAIC LIFE CARE AT ST JOSEPH</th>\n",
       "      <td>2015-04-01</td>\n",
       "      <td>2018-06-30</td>\n",
       "      <td>54860</td>\n",
       "    </tr>\n",
       "    <tr>\n",
       "      <th>BOTHWELL REGIONAL HEALTH CENTER</th>\n",
       "      <td>2015-04-01</td>\n",
       "      <td>2018-06-30</td>\n",
       "      <td>14717</td>\n",
       "    </tr>\n",
       "  </tbody>\n",
       "</table>\n",
       "</div>"
      ],
      "text/plain": [
       "                                         start_date   end_date  number\n",
       "MERCY HOSPITAL JOPLIN                    2015-04-01 2018-06-30   29977\n",
       "COOPER COUNTY COMMUNITY HOSPITAL         2015-07-01 2018-06-30     697\n",
       "SSM HEALTH ST JOSEPH HOSPITAL-ST CHARLES 2015-04-01 2018-06-30   23443\n",
       "MOSAIC LIFE CARE AT ST JOSEPH            2015-04-01 2018-06-30   54860\n",
       "BOTHWELL REGIONAL HEALTH CENTER          2015-04-01 2018-06-30   14717"
      ]
     },
     "execution_count": 77,
     "metadata": {},
     "output_type": "execute_result"
    }
   ],
   "source": [
    "mo_summary.head()"
   ]
  },
  {
   "cell_type": "code",
   "execution_count": 79,
   "metadata": {},
   "outputs": [],
   "source": [
    "assert(mo_summary['number'].sum() == 1766908)\n",
    "assert(mo_summary['start_date'].min() == pd.Timestamp(2015,4,1))\n",
    "assert(mo_summary['end_date'].max() == pd.Timestamp(2018,6,30))\n",
    "assert(mo_summary.shape == (108,3))  \n",
    "assert(mo_summary.loc['BARNES JEWISH HOSPITAL'].number == 131313)\n",
    "assert(mo_summary.loc['BOONE HOSPITAL CENTER'].number == 63099)"
   ]
  },
  {
   "cell_type": "markdown",
   "metadata": {},
   "source": [
    "---\n",
    "\n",
    "### 47.2 Planning your final project\n",
    "\n",
    "You should be thinking about the things we've been learning and how you can apply them to your final project.  Use the rubric to help guid your thinking and then answer the questions below.  This is meant as a guide to help you think through what you will do."
   ]
  },
  {
   "cell_type": "markdown",
   "metadata": {},
   "source": [
    "#### A) Data Access\n",
    "\n",
    "Your project should include data from at least three distinct types of sources.  For example: AWS S3, Relational Databases, Internet, Web Services, local files.  List what data sources you're planning to use."
   ]
  },
  {
   "cell_type": "markdown",
   "metadata": {},
   "source": [
    "I will be using two distinct types of sources: Internet and Kaggle. "
   ]
  },
  {
   "cell_type": "markdown",
   "metadata": {},
   "source": [
    "#### B. Data Formats\n",
    "\n",
    "Your project should include data that comes in different file formats.  For example: HL7, EDI, HTML, CSV, Excel, JSON, XML.  List what data formats you're planning to use."
   ]
  },
  {
   "cell_type": "markdown",
   "metadata": {},
   "source": [
    "From the Internet, I will be webscraping information from the article/webpage \"Best Workplaces for Millennials\" and two job search enginees (Indeed and Google jobs). Need to check/figure out how to get companies ratings from these sources. \n",
    "\n",
    "From Kaggle, I will be using the dataset \"Data Scientist Jobs\", which is formatted as a csv file. The file webscraped data from Glassdoor in August 2020. This file already contains company ratings. "
   ]
  },
  {
   "cell_type": "markdown",
   "metadata": {},
   "source": [
    "#### C. Objective\n",
    "\n",
    "What purpose would your project serve in a real work setting?  Take a couple of paragraphs to write down why this is an interesting product."
   ]
  },
  {
   "cell_type": "markdown",
   "metadata": {},
   "source": [
    "Project Outline:\n",
    "1. Find current job openings that match specific key words of interest provided by a user (use kaggle dataset to help identify companies w/ best ratings)\n",
    "2. Explore today's data science job market derived from informaiton in part 1. \n",
    "\n",
    "\n",
    "Why is this interesting?\n",
    "1. People spend a lot of time searching for jobs; the first part of the project will help people find tailored jobs. Being happily employed is vital to the economy and data science positions are especially important as they drive companies to improve processes that ultimately (hopefully) have a positive impact on consumers or patients if its a healthcare setting.  \n",
    "\n",
    "2. The second part of the project will show what to expect in today's data scientist job market. Is it still a popular job? How many openings are there currently? I will compare results with literature/articles about data science before covid.  \n"
   ]
  },
  {
   "cell_type": "markdown",
   "metadata": {},
   "source": [
    "---\n",
    "\n",
    "## Submitting Your Work\n",
    "\n",
    "In order to submit your work, you'll need to use the `git` command line program to **add** your homework file (this file) to your local repository, **commit** your changes to your local repository, and then **push** those changes up to github.com.  From there, I'll be able to **pull** the changes down and do my grading.  I'll provide some feedback, **commit** and **push** my comments back to you.  Next week, I'll show you how to **pull** down my comments.\n",
    "\n",
    "To run through everything one last time and submit your work:\n",
    "1. Use the `Kernel` -> `Restart Kernel and Run All Cells` menu option to run everything from top to bottom and stop here.\n",
    "2. Save this note with Ctrl-S (or Cmd-S)\n",
    "2. Skip down to the last command cell (the one starting with `%%bash`) and run that cell.\n",
    "\n",
    "If anything fails along the way with this submission part of the process, let me know.  I'll help you troubleshoort."
   ]
  },
  {
   "cell_type": "code",
   "execution_count": null,
   "metadata": {},
   "outputs": [],
   "source": [
    "assert False, \"DO NOT REMOVE THIS LINE\""
   ]
  },
  {
   "cell_type": "markdown",
   "metadata": {},
   "source": [
    "---"
   ]
  },
  {
   "cell_type": "code",
   "execution_count": null,
   "metadata": {},
   "outputs": [],
   "source": [
    "%%bash\n",
    "git pull\n",
    "git add week10_assignment_2.ipynb\n",
    "git commit -a -m \"Submitting the week 10 programming assignment\"\n",
    "git push"
   ]
  },
  {
   "cell_type": "markdown",
   "metadata": {},
   "source": [
    "\n",
    "---\n",
    "\n",
    "If the message above says something like _Submitting the week 8 programming assignment_ or _Everything is up to date_, then your work was submitted correctly."
   ]
  },
  {
   "cell_type": "code",
   "execution_count": null,
   "metadata": {},
   "outputs": [],
   "source": []
  }
 ],
 "metadata": {
  "kernelspec": {
   "display_name": "Python 3",
   "language": "python",
   "name": "python3"
  },
  "language_info": {
   "codemirror_mode": {
    "name": "ipython",
    "version": 3
   },
   "file_extension": ".py",
   "mimetype": "text/x-python",
   "name": "python",
   "nbconvert_exporter": "python",
   "pygments_lexer": "ipython3",
   "version": "3.6.7"
  }
 },
 "nbformat": 4,
 "nbformat_minor": 4
}
